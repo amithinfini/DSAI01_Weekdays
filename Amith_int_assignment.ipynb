{
 "cells": [
  {
   "cell_type": "code",
   "execution_count": 3,
   "metadata": {
    "colab": {},
    "colab_type": "code",
    "id": "8A5Jw5NR1iEI"
   },
   "outputs": [
    {
     "name": "stdout",
     "output_type": "stream",
     "text": [
      "a= 532\n",
      "type of a: <class 'int'>\n",
      "id of a: 1559267264368\n"
     ]
    }
   ],
   "source": [
    "#Declare an int value and store it in a variable. \n",
    "a = 532\n",
    "print('a=', a)\n",
    "\n",
    "#Check the type and print the id of the same.\n",
    "print('type of a:', type(a))\n",
    "print('id of a:', id(a))\n"
   ]
  },
  {
   "cell_type": "code",
   "execution_count": 6,
   "metadata": {
    "colab": {},
    "colab_type": "code",
    "id": "0YU8LFTn1rAX"
   },
   "outputs": [
    {
     "name": "stdout",
     "output_type": "stream",
     "text": [
      "b= 234\n",
      "c= 234\n",
      "id(b) 140706815393456\n",
      "id(c) 140706815393456\n",
      "\n",
      "d= 257\n",
      "e= 257\n",
      "id(d) 1559267264912\n",
      "id(e) 1559267265040\n"
     ]
    }
   ],
   "source": [
    "#Take one int value between 0 - 256.\n",
    "#Assign it to two different variables.\n",
    "b = 234\n",
    "c = 234\n",
    "print('b=', b)\n",
    "print('c=', c)\n",
    "#Check the id of both the variables. It should come same. Check why? --> memory reusability\n",
    "print('id(b)', id(b))\n",
    "print('id(c)', id(c))\n",
    "print()\n",
    "\n",
    "\n",
    "\n",
    "#Take one int value either less than -5 or greater than 256.\n",
    "#Assign it to two different variables.\n",
    "#Check the id of both the variables. It should come different.Check why? --> \n",
    "#limitation of memory usability as the range is beyond the defined limit\n",
    "\n",
    "d = 257\n",
    "e = 257\n",
    "print('d=', d)\n",
    "print('e=', e)\n",
    "print('id(d)', id(d))\n",
    "print('id(e)', id(e))\n"
   ]
  },
  {
   "cell_type": "code",
   "execution_count": 8,
   "metadata": {
    "colab": {},
    "colab_type": "code",
    "id": "YzEIG0ZZ1tSK",
    "scrolled": true
   },
   "outputs": [
    {
     "name": "stdout",
     "output_type": "stream",
     "text": [
      "f= 32\n",
      "g= 23\n",
      "sum= 55\n",
      "differce= 9\n",
      "product= 736\n",
      "dividing first num with second number= 1.391304347826087\n",
      "remainder= 9\n",
      "quotient= 1\n",
      "32 power of 23= 41538374868278621028243970633760768\n"
     ]
    }
   ],
   "source": [
    "#Arithmatic Operations on integers\n",
    "#Take two different intger values.\n",
    "#Store them in two different variables.\n",
    "f = 32\n",
    "g = 23\n",
    "print('f=', f)\n",
    "print('g=', g)\n",
    "#Do below operations on them:-\n",
    "    #Find sum of both numbers\n",
    "print('sum=', f + g)\n",
    "    #Find differce between them\n",
    "print('differce=', f - g)\n",
    "    #Find the product of both numbers.\n",
    "print('product=', f * g)\n",
    "    #Find value after dividing first num with second number\n",
    "print('dividing first num with second number=', f / g)\n",
    "    #Find the remainder after dividing first number with second number\n",
    "print('remainder=', f % g)\n",
    "    #Find the quotient after dividing first number with second number\n",
    "print('quotient=', f // g)\n",
    "    #Find the result of first num to the power of second number.\n",
    "print(f'{f} power of {g}=', f ** g)"
   ]
  },
  {
   "cell_type": "code",
   "execution_count": 11,
   "metadata": {
    "colab": {},
    "colab_type": "code",
    "id": "GGM7CdzA1wGn"
   },
   "outputs": [
    {
     "name": "stdout",
     "output_type": "stream",
     "text": [
      "h= 32\n",
      "i= 23\n",
      "h > i: True\n",
      "h < i: False\n",
      "h >= i: True\n",
      "h <= i: False\n"
     ]
    }
   ],
   "source": [
    "#Comparison Operators on integers\n",
    "#Take two different intger values.\n",
    "#Store them in two different variables.\n",
    "h = 32\n",
    "i = 23\n",
    "print('h=', h)\n",
    "print('i=', i)\n",
    "#Do below operations on them:-\n",
    "    #Compare se two numbers with below operator:-\n",
    "        #Greater than, '>'\n",
    "print('h > i:', h>i)\n",
    "        #Smaller than, '<'\n",
    "print('h < i:', h<=i)\n",
    "        #Greater than or equal to, '>='\n",
    "print('h >= i:', h>=i)\n",
    "        #Less than or equal to, '<='\n",
    "print('h <= i:', h<=i)\n",
    "#Observe their output(return type should be boolean)"
   ]
  },
  {
   "cell_type": "code",
   "execution_count": 13,
   "metadata": {
    "colab": {},
    "colab_type": "code",
    "id": "9x904sUE1y9t"
   },
   "outputs": [
    {
     "name": "stdout",
     "output_type": "stream",
     "text": [
      "h= 32\n",
      "i= 23\n",
      "h == i False\n",
      "h != i True\n"
     ]
    }
   ],
   "source": [
    "#Equality Operator\n",
    "#Take two different intger values.\n",
    "#Store them in two different variables.\n",
    "print('h=', h)\n",
    "print('i=', i)\n",
    "#Equuate them using equality operator (==, !=)\n",
    "print('h == i', h==i)\n",
    "print('h != i', h!=i)\n",
    "#Observe the output(return type should be boolean)"
   ]
  },
  {
   "cell_type": "code",
   "execution_count": 14,
   "metadata": {
    "colab": {},
    "colab_type": "code",
    "id": "JmQFHUwc11S-"
   },
   "outputs": [
    {
     "name": "stdout",
     "output_type": "stream",
     "text": [
      "20\n",
      "0\n",
      "0\n",
      "0\n",
      "10\n",
      "20\n",
      "20\n",
      "0\n",
      "False\n",
      "False\n",
      "True\n"
     ]
    }
   ],
   "source": [
    "#Logical operators\n",
    "#Observe the output of below code\n",
    "#Cross check the output manually\n",
    "\n",
    "print(10 and 20)       #----------------------------------------->Output is 20\n",
    "print(0 and 20)        #----------------------------------------->Output is 0\n",
    "print(20 and 0)        #----------------------------------------->Output is 0\n",
    "print(0 and 0)         #----------------------------------------->Output is 0\n",
    "# If 1st & 2nd object are True then the output is 2nd object\n",
    "# If 1st object is False then output is 1st object\n",
    "\n",
    "print(10 or 20)        #----------------------------------------->Output is 10\n",
    "print(0 or 20)         #----------------------------------------->Output is 20\n",
    "print(20 or 0)         #----------------------------------------->Output is 20\n",
    "print(0 or 0)          #----------------------------------------->Output is 0\n",
    "# If 1st object is True then output is 1st object\n",
    "# If 1st or 2nd object are True then the output is object that is True\n",
    "print(0 or False) # If 1st & 2nd object are False then the output is 2nd Object\n",
    "\n",
    "\n",
    "print(not 10)          #----------------------------------------->Output is False\n",
    "print(not 0)           #----------------------------------------->Output is True"
   ]
  },
  {
   "cell_type": "code",
   "execution_count": 40,
   "metadata": {
    "colab": {},
    "colab_type": "code",
    "id": "-0tvoulX14Hi"
   },
   "outputs": [
    {
     "name": "stdout",
     "output_type": "stream",
     "text": [
      "0b1100\n",
      "0b1111\n",
      "--------------\n",
      "0b1100\n",
      "12\n",
      "_____________\n",
      " 0b1010\n",
      "0b10100\n",
      "--------------\n",
      "0b0\n",
      "0\n",
      "\n",
      "\n",
      "\n",
      " 0b1010\n",
      "0b10100\n",
      "--------------\n",
      "0b11110\n",
      "30\n",
      "\n",
      "\n",
      "\n",
      " 0b1010\n",
      "0b10100\n",
      "--------------\n",
      "0b11110\n",
      "30\n",
      "\n",
      "\n",
      "\n",
      "0b1010\n",
      "-11\n",
      "-0b1011\n",
      "\n",
      "\n",
      "\n",
      "0b1010\n",
      "0b101000\n",
      "40\n",
      "\n",
      "\n",
      "\n",
      "0b1010\n",
      "0b10\n",
      "2\n"
     ]
    }
   ],
   "source": [
    "#Bitwise Operators\n",
    "#Do below operations on the values provided below:-\n",
    "    #Bitwise and(&) -----------------------------------------> 10, 20   -------> Output is 0\n",
    "print(bin(12))\n",
    "print(bin(15))\n",
    "print('--------------')\n",
    "print(bin(12 & 15))\n",
    "print(12 & 15)\n",
    "print('_____________')\n",
    "\n",
    "print('',bin(10))\n",
    "print(bin(20))\n",
    "print('--------------')\n",
    "print(bin(10 & 20))\n",
    "print(10 & 20)\n",
    "print('\\n\\n')\n",
    "    #Bitwise or(|)  -----------------------------------------> 10, 20   -------> Output is 30\n",
    "print('',bin(10))\n",
    "print(bin(20))\n",
    "print('--------------')\n",
    "print(bin(10 | 20))\n",
    "print(10 | 20)\n",
    "print('\\n\\n')\n",
    "\n",
    "    #Bitwise(^)     -----------------------------------------> 10, 20   -------> Output is 30\n",
    "print('',bin(10))\n",
    "print(bin(20))\n",
    "print('--------------')\n",
    "print(bin(10 ^ 20))\n",
    "print(10 ^ 20)\n",
    "print('\\n\\n')\n",
    "\n",
    "\n",
    "    #Bitwise negation(~) ------------------------------------> 10       -------> Output is -11\n",
    "print(bin(10))\n",
    "print(~0b1010)\n",
    "print(bin(-11))\n",
    "print('\\n\\n')\n",
    "# Multiply by -1 and add -1\n",
    "\n",
    "\n",
    "    #Bitwise left shift  ------------------------------------> 10,2     -------> Output is 40\n",
    "print(bin(10))\n",
    "print(bin(10 << 2))\n",
    "print(10 << 2)\n",
    "print('\\n\\n')\n",
    "\n",
    "    #Bitwise right shift ------------------------------------> 10,2     -------> Output is 2\n",
    "print(bin(10))\n",
    "print(bin(10 >> 2))\n",
    "print(10 >> 2)\n",
    "\n",
    "#Cross check the output manually"
   ]
  },
  {
   "cell_type": "code",
   "execution_count": 41,
   "metadata": {
    "colab": {},
    "colab_type": "code",
    "id": "YCcx-Qx016hg"
   },
   "outputs": [
    {
     "name": "stdout",
     "output_type": "stream",
     "text": [
      "True\n",
      "False\n",
      "False\n",
      "True\n"
     ]
    }
   ],
   "source": [
    "#What is the output of expression inside print statement. Cross check before running the program.\n",
    "a = 10\n",
    "b = 10\n",
    "print(a is b)          #True or False? True\n",
    "print(a is not b)      #True or False? False\n",
    "\n",
    "a = 1000\n",
    "b = 1000\n",
    "print(a is b)          #True or False? False\n",
    "print(a is not b)      #True or False? True"
   ]
  },
  {
   "cell_type": "code",
   "execution_count": 42,
   "metadata": {
    "colab": {},
    "colab_type": "code",
    "id": "Un2To3XN1_Il"
   },
   "outputs": [
    {
     "name": "stdout",
     "output_type": "stream",
     "text": [
      "20\n"
     ]
    }
   ],
   "source": [
    "#What is the output of expression inside print statement. Cross check before running the program.\n",
    "print(10+(10*32)//2**5&20+(~(-10))<<2) #20"
   ]
  },
  {
   "cell_type": "code",
   "execution_count": 43,
   "metadata": {
    "colab": {},
    "colab_type": "code",
    "id": "kGRb5RMd1_1I"
   },
   "outputs": [
    {
     "name": "stdout",
     "output_type": "stream",
     "text": [
      "True\n",
      "True\n",
      "True\n",
      "True\n",
      "True\n",
      "True\n"
     ]
    }
   ],
   "source": [
    "#Membership operation\n",
    "#in, not in are two membership operators and it returns boolean value\n",
    "\n",
    "print('2' in 'Python2.7.8') # True\n",
    "print(10 in [10,10.20,10+20j,'Python']) # True\n",
    "print(10 in (10,10.20,10+20j,'Python')) # True\n",
    "print(2 in {1,2,3}) # True\n",
    "print(3 in {1:100, 2:200, 3:300}) # True\n",
    "print(10 in range(20)) # True"
   ]
  },
  {
   "cell_type": "code",
   "execution_count": 44,
   "metadata": {
    "colab": {},
    "colab_type": "code",
    "id": "Es7iSvL92B9W"
   },
   "outputs": [
    {
     "name": "stdout",
     "output_type": "stream",
     "text": [
      "0b10011010010100\n",
      "0o23224\n",
      "0x2694\n"
     ]
    }
   ],
   "source": [
    "#An integer can be represented in binary, octal or hexadecimal form.\n",
    "#Declare one binary, one octal and one hexadecimal value and store them in three different variables.\n",
    "bin1 = 0b1011\n",
    "oct1 = 0o2357\n",
    "hex1 = 0xace\n",
    "\n",
    "#Convert 9876 to its binary, octal and hexadecimal equivalent and print their corresponding value.\n",
    "print(bin(9876))\n",
    "print(oct(9876))\n",
    "print(hex(9876))"
   ]
  },
  {
   "cell_type": "code",
   "execution_count": 45,
   "metadata": {
    "colab": {},
    "colab_type": "code",
    "id": "Hm0r03lH2E0i"
   },
   "outputs": [
    {
     "name": "stdout",
     "output_type": "stream",
     "text": [
      "80\n",
      "3870\n",
      "64222\n",
      "0b1010000\n",
      "0o7436\n",
      "0xfade\n",
      "0b1010000\n",
      "0b1111101011011110\n",
      "0o175336\n",
      "0o7436\n",
      "0x50\n",
      "0xfade\n"
     ]
    }
   ],
   "source": [
    "#What will be the outut of following:-\n",
    "a = 0b1010000\n",
    "print(a) \n",
    "# 80\n",
    "\n",
    "b = 0o7436\n",
    "print(b) \n",
    "# 3870\n",
    "\n",
    "c = 0xfade\n",
    "print(c)\n",
    "# 64222\n",
    "\n",
    "print(bin(80))\n",
    "# 0b1010000\n",
    "\n",
    "print(oct(3870))\n",
    "# 0o7436\n",
    "\n",
    "print(hex(64222))\n",
    "# 0xfade\n",
    "\n",
    "print(bin(0b1010000))\n",
    "# 0b1010000\n",
    "\n",
    "print(bin(0xfade))\n",
    "# 0b1111101011011110\n",
    "\n",
    "print(oct(0xfade))\n",
    "# 0o175336\n",
    "\n",
    "print(oct(0o7436))\n",
    "# 0o7436\n",
    "\n",
    "print(hex(0b1010000))\n",
    "# 0x50\n",
    "\n",
    "print(hex(0xfade))\n",
    "# 0xfade"
   ]
  }
 ],
 "metadata": {
  "colab": {
   "name": "int_assignment.ipynb",
   "provenance": []
  },
  "kernelspec": {
   "display_name": "Python 3",
   "language": "python",
   "name": "python3"
  },
  "language_info": {
   "codemirror_mode": {
    "name": "ipython",
    "version": 3
   },
   "file_extension": ".py",
   "mimetype": "text/x-python",
   "name": "python",
   "nbconvert_exporter": "python",
   "pygments_lexer": "ipython3",
   "version": "3.7.7"
  }
 },
 "nbformat": 4,
 "nbformat_minor": 1
}
